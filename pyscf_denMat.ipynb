{
  "nbformat": 4,
  "nbformat_minor": 0,
  "metadata": {
    "colab": {
      "name": "pyscf-denMat.ipynb",
      "provenance": [],
      "authorship_tag": "ABX9TyNmoWttoseoWtnwRC9WUE2y",
      "include_colab_link": true
    },
    "kernelspec": {
      "name": "python3",
      "display_name": "Python 3"
    },
    "language_info": {
      "name": "python"
    }
  },
  "cells": [
    {
      "cell_type": "markdown",
      "metadata": {
        "id": "view-in-github",
        "colab_type": "text"
      },
      "source": [
        "<a href=\"https://colab.research.google.com/github/chenxin199261/SCF-acceleration/blob/main/pyscf_denMat.ipynb\" target=\"_parent\"><img src=\"https://colab.research.google.com/assets/colab-badge.svg\" alt=\"Open In Colab\"/></a>"
      ]
    },
    {
      "cell_type": "code",
      "metadata": {
        "colab": {
          "base_uri": "https://localhost:8080/"
        },
        "id": "ir18mxXhMOiA",
        "outputId": "2cbb8ddd-5b14-4ea1-f6c3-36c236bad26f"
      },
      "source": [
        "!pip install pyscf"
      ],
      "execution_count": 1,
      "outputs": [
        {
          "output_type": "stream",
          "text": [
            "Collecting pyscf\n",
            "  Downloading pyscf-1.7.6.post1-cp37-cp37m-manylinux1_x86_64.whl (29.7 MB)\n",
            "\u001b[K     |████████████████████████████████| 29.7 MB 82 kB/s \n",
            "\u001b[?25hRequirement already satisfied: h5py>2.2 in /usr/local/lib/python3.7/dist-packages (from pyscf) (3.1.0)\n",
            "Requirement already satisfied: scipy!=1.5.0,!=1.5.1 in /usr/local/lib/python3.7/dist-packages (from pyscf) (1.4.1)\n",
            "Requirement already satisfied: numpy!=1.16,!=1.17,>1.8 in /usr/local/lib/python3.7/dist-packages (from pyscf) (1.19.5)\n",
            "Requirement already satisfied: cached-property in /usr/local/lib/python3.7/dist-packages (from h5py>2.2->pyscf) (1.5.2)\n",
            "Installing collected packages: pyscf\n",
            "Successfully installed pyscf-1.7.6.post1\n"
          ],
          "name": "stdout"
        }
      ]
    },
    {
      "cell_type": "code",
      "metadata": {
        "colab": {
          "base_uri": "https://localhost:8080/",
          "height": 840
        },
        "id": "vn9cQaS8M-GI",
        "outputId": "6b3ad4d2-7677-4198-dea8-32f8e3714b21"
      },
      "source": [
        "from pyscf import gto, dft\n",
        "import matplotlib.pyplot as plt\n",
        "\n",
        "mol = gto.M(\n",
        "    atom = '''\n",
        "O 0 0      0\n",
        "H 0 -2.757 2.587\n",
        "H 0  2.757 2.587''',\n",
        "    basis = 'ccpvdz',\n",
        "    charge = 0\n",
        ")\n",
        "mf = dft.RKS(mol)\n",
        "mf.xc = 'camb3lyp'\n",
        "\n",
        "dm1 = mf.init_guess_by_huckel(mol)\n",
        "mf.kernel(dm0=dm1)\n",
        "dm2 = mf.make_rdm1(mf.mo_coeff, mf.mo_occ)\n",
        "plt.matshow(dm1-dm2)\n",
        "plt.show()\n"
      ],
      "execution_count": 10,
      "outputs": [
        {
          "output_type": "stream",
          "text": [
            "\n",
            "\n",
            "******** <class 'pyscf.scf.atom_hf.AtomSphericAverageRHF'> ********\n",
            "method = AtomSphericAverageRHF-RHF\n",
            "initial guess = minao\n",
            "damping factor = 0\n",
            "level_shift factor = 0\n",
            "DIIS = <class 'pyscf.scf.diis.CDIIS'>\n",
            "diis_start_cycle = 1\n",
            "diis_space = 8\n",
            "SCF conv_tol = 1e-09\n",
            "SCF conv_tol_grad = None\n",
            "SCF max_cycles = 50\n",
            "direct_scf = True\n",
            "direct_scf_tol = 1e-13\n",
            "chkfile to save SCF result = /content/tmpjhm_pku2\n",
            "max_memory 4000 MB (current use 260 MB)\n",
            "Set gradient conv threshold to 3.16228e-05\n",
            "init E= -74.256327328113\n",
            "cycle= 1 E= -74.268790239725  delta_E= -0.0125  |g|=    0  |ddm|= 0.118\n",
            "cycle= 2 E= -74.2691340437085  delta_E= -0.000344  |g|=    0  |ddm|= 0.0421\n",
            "cycle= 3 E= -74.2691858596966  delta_E= -5.18e-05  |g|=    0  |ddm|= 0.01\n",
            "cycle= 4 E= -74.2691871256342  delta_E= -1.27e-06  |g|=    0  |ddm|= 0.0026\n",
            "cycle= 5 E= -74.2691871256343  delta_E= -9.95e-14  |g|=    0  |ddm|= 4.84e-07\n",
            "Extra cycle  E= -74.2691871256343  delta_E= -1.42e-14  |g|=    0  |ddm|= 5.94e-08\n",
            "converged SCF energy = -74.2691871256343\n",
            "\n",
            "\n",
            "******** 1 electron system ********\n",
            "converged SCF energy = -0.499278403419583\n",
            "SCF not converged.\n",
            "SCF energy = -74.0116631043378\n"
          ],
          "name": "stdout"
        },
        {
          "output_type": "display_data",
          "data": {
            "image/png": "[encoded data removed]",
            "text/plain": [
              "<Figure size 288x288 with 1 Axes>"
            ]
          },
          "metadata": {
            "tags": [],
            "needs_background": "light"
          }
        }
      ]
    },
    {
      "cell_type": "code",
      "metadata": {
        "id": "FASyuzn6QQ7e"
      },
      "source": [
        ""
      ],
      "execution_count": null,
      "outputs": []
    }
  ]
}